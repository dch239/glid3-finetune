{
 "cells": [
  {
   "cell_type": "code",
   "execution_count": 4,
   "metadata": {},
   "outputs": [
    {
     "name": "stdout",
     "output_type": "stream",
     "text": [
      "/Users/chaurdh/Library/CloudStorage/OneDrive-VolkswagenGroupofAmerica/Desktop/glid_3_xl/glid-3-xl/.venv/lib/python3.9/site-packages/urllib3/__init__.py:34: NotOpenSSLWarning: urllib3 v2 only supports OpenSSL 1.1.1+, currently the 'ssl' module is compiled with 'LibreSSL 2.8.3'. See: https://github.com/urllib3/urllib3/issues/3020\n",
      "  warnings.warn(\n",
      "Using device: mps\n",
      "Traceback (most recent call last):\n",
      "  File \"/Users/chaurdh/Library/CloudStorage/OneDrive-VolkswagenGroupofAmerica/Desktop/glid_3_xl/glid-3-xl/sample.py\", line 523, in <module>\n",
      "    do_run()\n",
      "  File \"/Users/chaurdh/Library/CloudStorage/OneDrive-VolkswagenGroupofAmerica/Desktop/glid_3_xl/glid-3-xl/sample.py\", line 308, in do_run\n",
      "    text_emb = bert.encode([args.text]*args.batch_size).to(device).float()\n",
      "  File \"/Users/chaurdh/Library/CloudStorage/OneDrive-VolkswagenGroupofAmerica/Desktop/glid_3_xl/glid-3-xl/encoders/modules.py\", line 99, in encode\n",
      "    return self(text)\n",
      "  File \"/Users/chaurdh/Library/CloudStorage/OneDrive-VolkswagenGroupofAmerica/Desktop/glid_3_xl/glid-3-xl/.venv/lib/python3.9/site-packages/torch/nn/modules/module.py\", line 1518, in _wrapped_call_impl\n",
      "    return self._call_impl(*args, **kwargs)\n",
      "  File \"/Users/chaurdh/Library/CloudStorage/OneDrive-VolkswagenGroupofAmerica/Desktop/glid_3_xl/glid-3-xl/.venv/lib/python3.9/site-packages/torch/nn/modules/module.py\", line 1527, in _call_impl\n",
      "    return forward_call(*args, **kwargs)\n",
      "  File \"/Users/chaurdh/Library/CloudStorage/OneDrive-VolkswagenGroupofAmerica/Desktop/glid_3_xl/glid-3-xl/encoders/modules.py\", line 91, in forward\n",
      "    tokens = self.tknz_fn(text)#.to(self.device)\n",
      "  File \"/Users/chaurdh/Library/CloudStorage/OneDrive-VolkswagenGroupofAmerica/Desktop/glid_3_xl/glid-3-xl/.venv/lib/python3.9/site-packages/torch/nn/modules/module.py\", line 1518, in _wrapped_call_impl\n",
      "    return self._call_impl(*args, **kwargs)\n",
      "  File \"/Users/chaurdh/Library/CloudStorage/OneDrive-VolkswagenGroupofAmerica/Desktop/glid_3_xl/glid-3-xl/.venv/lib/python3.9/site-packages/torch/nn/modules/module.py\", line 1527, in _call_impl\n",
      "    return forward_call(*args, **kwargs)\n",
      "  File \"/Users/chaurdh/Library/CloudStorage/OneDrive-VolkswagenGroupofAmerica/Desktop/glid_3_xl/glid-3-xl/encoders/modules.py\", line 62, in forward\n",
      "    tokens = batch_encoding[\"input_ids\"].to(self.device)\n",
      "  File \"/Users/chaurdh/Library/CloudStorage/OneDrive-VolkswagenGroupofAmerica/Desktop/glid_3_xl/glid-3-xl/.venv/lib/python3.9/site-packages/torch/cuda/__init__.py\", line 289, in _lazy_init\n",
      "    raise AssertionError(\"Torch not compiled with CUDA enabled\")\n",
      "AssertionError: Torch not compiled with CUDA enabled\n"
     ]
    }
   ],
   "source": [
    "!python sample.py --model_path finetune.pt --batch_size 6 --num_batches 6 --text \"a cyberpunk girl with a scifi neuralink device on her head\""
   ]
  },
  {
   "cell_type": "code",
   "execution_count": 2,
   "metadata": {},
   "outputs": [
    {
     "ename": "ModuleNotFoundError",
     "evalue": "No module named 'ldm'",
     "output_type": "error",
     "traceback": [
      "\u001b[0;31m---------------------------------------------------------------------------\u001b[0m",
      "\u001b[0;31mModuleNotFoundError\u001b[0m                       Traceback (most recent call last)",
      "Cell \u001b[0;32mIn[2], line 1\u001b[0m\n\u001b[0;32m----> 1\u001b[0m \u001b[38;5;28;01mimport\u001b[39;00m \u001b[38;5;21;01mldm\u001b[39;00m\n",
      "\u001b[0;31mModuleNotFoundError\u001b[0m: No module named 'ldm'"
     ]
    }
   ],
   "source": [
    "import ldm"
   ]
  },
  {
   "cell_type": "code",
   "execution_count": null,
   "metadata": {},
   "outputs": [],
   "source": []
  }
 ],
 "metadata": {
  "kernelspec": {
   "display_name": ".venv",
   "language": "python",
   "name": "python3"
  },
  "language_info": {
   "codemirror_mode": {
    "name": "ipython",
    "version": 3
   },
   "file_extension": ".py",
   "mimetype": "text/x-python",
   "name": "python",
   "nbconvert_exporter": "python",
   "pygments_lexer": "ipython3",
   "version": "3.9.6"
  }
 },
 "nbformat": 4,
 "nbformat_minor": 2
}
